{
 "cells": [
  {
   "cell_type": "markdown",
   "id": "7b8aa258",
   "metadata": {},
   "source": [
    "## Handling Imbalanced Data\n",
    "### 1. Up Sampling \n",
    "### 2. Down Sampling "
   ]
  },
  {
   "cell_type": "code",
   "execution_count": 1,
   "metadata": {},
   "outputs": [],
   "source": [
    "import numpy as np\n",
    "import pandas as  pd\n",
    "\n",
    "# set the random seed for reproductibility\n",
    "np.random.seed(123)\n",
    "\n",
    "# Create 900 class 0 and 100 class 1 samples\n",
    "n_samples = 1000\n",
    "\n",
    "n_class_0 = 900\n",
    "n_class_1 = 100\n",
    "\n",
    "# Create 900 samples of class 0\n",
    "class_0 = pd.DataFrame({\n",
    "    'feature_1': np.random.randn(900),\n",
    "    'feature_2': np.random.randn(900),\n",
    "    'target': [0] * 900\n",
    "})\n",
    "\n",
    "# Create 100 samples of class 1\n",
    "class_1 = pd.DataFrame({\n",
    "    'feature_1': np.random.randn(100),\n",
    "    'feature_2': np.random.randn(100),\n",
    "    'target': [1] * 100 \n",
    "})\n"
   ]
  },
  {
   "cell_type": "code",
   "execution_count": 4,
   "id": "99abdcc1",
   "metadata": {},
   "outputs": [],
   "source": [
    "## Combine Dataset\n",
    "dataset = pd.concat([class_0, class_1], ignore_index=True)"
   ]
  },
  {
   "cell_type": "code",
   "execution_count": 5,
   "id": "fddd6b36",
   "metadata": {},
   "outputs": [
    {
     "name": "stdout",
     "output_type": "stream",
     "text": [
      "Class counts:\n",
      " target\n",
      "0    900\n",
      "1    100\n",
      "Name: count, dtype: int64\n"
     ]
    }
   ],
   "source": [
    "# Confirm both classes exist\n",
    "print(\"Class counts:\\n\", dataset['target'].value_counts())"
   ]
  },
  {
   "cell_type": "code",
   "execution_count": 6,
   "metadata": {},
   "outputs": [
    {
     "data": {
      "text/plain": [
       "(900, 100)"
      ]
     },
     "execution_count": 6,
     "metadata": {},
     "output_type": "execute_result"
    }
   ],
   "source": [
    "n_class_0,n_class_1"
   ]
  },
  {
   "cell_type": "code",
   "execution_count": 8,
   "metadata": {},
   "outputs": [],
   "source": [
    "## Upsampling\n",
    "dataset_minority=dataset[dataset['target']==1]\n",
    "dataset_majority=dataset[dataset['target']==0]"
   ]
  },
  {
   "cell_type": "code",
   "execution_count": 9,
   "id": "448cc76e",
   "metadata": {},
   "outputs": [
    {
     "name": "stdout",
     "output_type": "stream",
     "text": [
      "Majority: 900\n",
      "Minority: 100\n"
     ]
    }
   ],
   "source": [
    "print(\"Majority:\", len(dataset_majority))\n",
    "print(\"Minority:\", len(dataset_minority))"
   ]
  },
  {
   "cell_type": "code",
   "execution_count": 11,
   "id": "4d1c2165",
   "metadata": {},
   "outputs": [],
   "source": [
    "from sklearn.utils import resample\n",
    "\n",
    "dataset_minority_upsampled = resample(\n",
    "    dataset_minority,\n",
    "    replace=True,                           # Sample with replacement\n",
    "    n_samples=len(dataset_majority),        # Match number of majority class\n",
    "    random_state=123\n",
    ")\n"
   ]
  },
  {
   "cell_type": "code",
   "execution_count": 15,
   "id": "f06d1795",
   "metadata": {},
   "outputs": [
    {
     "data": {
      "text/plain": [
       "(900, 3)"
      ]
     },
     "execution_count": 15,
     "metadata": {},
     "output_type": "execute_result"
    }
   ],
   "source": [
    "dataset_minority_upsampled.shape"
   ]
  },
  {
   "cell_type": "code",
   "execution_count": 12,
   "id": "3cadbcf2",
   "metadata": {},
   "outputs": [],
   "source": [
    "dataset_balanced = pd.concat([dataset_majority, dataset_minority_upsampled])\n",
    "dataset_balanced = dataset_balanced.sample(frac=1, random_state=123).reset_index(drop=True)\n"
   ]
  },
  {
   "cell_type": "code",
   "execution_count": 14,
   "id": "fce38cd8",
   "metadata": {},
   "outputs": [
    {
     "name": "stdout",
     "output_type": "stream",
     "text": [
      "target\n",
      "0    900\n",
      "1    900\n",
      "Name: count, dtype: int64\n",
      "   feature_1  feature_2  target\n",
      "0   0.691423   1.433240       0\n",
      "1   1.013493   0.047240       1\n",
      "2  -1.213385   0.675504       0\n",
      "3  -0.119519  -0.160798       0\n",
      "4  -1.825028   1.216906       1\n"
     ]
    }
   ],
   "source": [
    "print(dataset_balanced['target'].value_counts())\n",
    "print(dataset_balanced.head())"
   ]
  },
  {
   "cell_type": "markdown",
   "id": "19c1b4ae",
   "metadata": {},
   "source": [
    "### Down sampling"
   ]
  },
  {
   "cell_type": "code",
   "execution_count": 16,
   "metadata": {},
   "outputs": [],
   "source": [
    "import numpy as np\n",
    "import pandas as pd\n",
    "from sklearn.utils import resample\n",
    "\n",
    "np.random.seed(123)  # For reproducibility\n",
    "\n",
    "# Class 0: 900 samples (majority)\n",
    "class_0 = pd.DataFrame({\n",
    "    'feature_1': np.random.randn(900),\n",
    "    'feature_2': np.random.randn(900),\n",
    "    'target': [0] * 900\n",
    "})\n",
    "\n",
    "# Class 1: 100 samples (minority)\n",
    "class_1 = pd.DataFrame({\n",
    "    'feature_1': np.random.randn(100),\n",
    "    'feature_2': np.random.randn(100),\n",
    "    'target': [1] * 100\n",
    "})\n",
    "\n",
    "# Combine into a single dataset\n",
    "dataset = pd.concat([class_0, class_1]).reset_index(drop=True)\n",
    "\n"
   ]
  },
  {
   "cell_type": "code",
   "execution_count": 17,
   "metadata": {},
   "outputs": [],
   "source": [
    "dataset_majority = dataset[dataset['target'] == 0]\n",
    "dataset_minority = dataset[dataset['target'] == 1]\n"
   ]
  },
  {
   "cell_type": "code",
   "execution_count": 18,
   "id": "0f9e84f8",
   "metadata": {},
   "outputs": [],
   "source": [
    "dataset_majority_downsampled = resample(\n",
    "    dataset_majority,\n",
    "    replace=False,                         # No replacement\n",
    "    n_samples=len(dataset_minority),      # Match minority class\n",
    "    random_state=123\n",
    ")\n"
   ]
  },
  {
   "cell_type": "code",
   "execution_count": 19,
   "id": "3127d11f",
   "metadata": {},
   "outputs": [],
   "source": [
    "dataset_downsampled = pd.concat([dataset_majority_downsampled, dataset_minority])\n",
    "dataset_downsampled = dataset_downsampled.sample(frac=1, random_state=123).reset_index(drop=True)\n"
   ]
  },
  {
   "cell_type": "code",
   "execution_count": 20,
   "id": "960231ba",
   "metadata": {},
   "outputs": [
    {
     "name": "stdout",
     "output_type": "stream",
     "text": [
      "target\n",
      "0    100\n",
      "1    100\n",
      "Name: count, dtype: int64\n",
      "   feature_1  feature_2  target\n",
      "0   0.744819   0.116802       0\n",
      "1   1.382173   0.913005       1\n",
      "2  -1.727669  -0.713989       0\n",
      "3   0.944820  -0.722076       1\n",
      "4   1.651437  -0.116932       0\n"
     ]
    }
   ],
   "source": [
    "print(dataset_downsampled['target'].value_counts())\n",
    "print(dataset_downsampled.head())\n"
   ]
  }
 ],
 "metadata": {
  "kernelspec": {
   "display_name": "base",
   "language": "python",
   "name": "python3"
  },
  "language_info": {
   "codemirror_mode": {
    "name": "ipython",
    "version": 3
   },
   "file_extension": ".py",
   "mimetype": "text/x-python",
   "name": "python",
   "nbconvert_exporter": "python",
   "pygments_lexer": "ipython3",
   "version": "3.12.7"
  }
 },
 "nbformat": 4,
 "nbformat_minor": 5
}
